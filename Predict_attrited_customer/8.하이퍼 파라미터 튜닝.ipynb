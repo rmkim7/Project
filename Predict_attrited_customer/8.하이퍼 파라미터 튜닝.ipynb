{
 "cells": [
  {
   "cell_type": "code",
   "execution_count": 1,
   "metadata": {},
   "outputs": [],
   "source": [
    "import warnings\n",
    "warnings.filterwarnings('ignore')\n",
    "\n",
    "import pandas as pd\n",
    "import numpy as np\n",
    "import seaborn as sns\n",
    "import matplotlib.pyplot as plt\n",
    "%matplotlib inline\n",
    "from sklearn.tree import DecisionTreeClassifier, plot_tree, export_graphviz, export_text\n",
    "from IPython.display import Image\n",
    "from sklearn.metrics import accuracy_score, recall_score, precision_score, f1_score\n",
    "from sklearn.metrics import confusion_matrix, classification_report, roc_auc_score\n",
    "from sklearn.metrics import roc_curve, auc, average_precision_score\n",
    "from sklearn.preprocessing import LabelEncoder"
   ]
  },
  {
   "cell_type": "code",
   "execution_count": 2,
   "metadata": {},
   "outputs": [
    {
     "data": {
      "text/html": [
       "<div>\n",
       "<style scoped>\n",
       "    .dataframe tbody tr th:only-of-type {\n",
       "        vertical-align: middle;\n",
       "    }\n",
       "\n",
       "    .dataframe tbody tr th {\n",
       "        vertical-align: top;\n",
       "    }\n",
       "\n",
       "    .dataframe thead th {\n",
       "        text-align: right;\n",
       "    }\n",
       "</style>\n",
       "<table border=\"1\" class=\"dataframe\">\n",
       "  <thead>\n",
       "    <tr style=\"text-align: right;\">\n",
       "      <th></th>\n",
       "      <th>Customer_Age</th>\n",
       "      <th>Dependent_count</th>\n",
       "      <th>Months_on_book</th>\n",
       "      <th>Total_Relationship_Count</th>\n",
       "      <th>Months_Inactive_12_mon</th>\n",
       "      <th>Contacts_Count_12_mon</th>\n",
       "      <th>Credit_Limit</th>\n",
       "      <th>Total_Revolving_Bal</th>\n",
       "      <th>Avg_Open_To_Buy</th>\n",
       "      <th>Total_Amt_Chng_Q4_Q1</th>\n",
       "      <th>...</th>\n",
       "      <th>Total_Ct_Chng_Q4_Q1</th>\n",
       "      <th>Avg_Utilization_Ratio</th>\n",
       "      <th>Gender_M</th>\n",
       "      <th>Marital_Status_Married</th>\n",
       "      <th>Marital_Status_Single</th>\n",
       "      <th>Marital_Status_Unknown</th>\n",
       "      <th>Attrition_Flag_Attrited Customer</th>\n",
       "      <th>new_income_category</th>\n",
       "      <th>new_edu_category</th>\n",
       "      <th>new_card_category</th>\n",
       "    </tr>\n",
       "  </thead>\n",
       "  <tbody>\n",
       "    <tr>\n",
       "      <th>0</th>\n",
       "      <td>45</td>\n",
       "      <td>3</td>\n",
       "      <td>39</td>\n",
       "      <td>5</td>\n",
       "      <td>1</td>\n",
       "      <td>3</td>\n",
       "      <td>12691.0</td>\n",
       "      <td>777</td>\n",
       "      <td>11914.0</td>\n",
       "      <td>1.335</td>\n",
       "      <td>...</td>\n",
       "      <td>1.625</td>\n",
       "      <td>0.061</td>\n",
       "      <td>1</td>\n",
       "      <td>1</td>\n",
       "      <td>0</td>\n",
       "      <td>0</td>\n",
       "      <td>0</td>\n",
       "      <td>2</td>\n",
       "      <td>1</td>\n",
       "      <td>0</td>\n",
       "    </tr>\n",
       "    <tr>\n",
       "      <th>1</th>\n",
       "      <td>49</td>\n",
       "      <td>5</td>\n",
       "      <td>44</td>\n",
       "      <td>6</td>\n",
       "      <td>1</td>\n",
       "      <td>2</td>\n",
       "      <td>8256.0</td>\n",
       "      <td>864</td>\n",
       "      <td>7392.0</td>\n",
       "      <td>1.541</td>\n",
       "      <td>...</td>\n",
       "      <td>3.714</td>\n",
       "      <td>0.105</td>\n",
       "      <td>0</td>\n",
       "      <td>0</td>\n",
       "      <td>1</td>\n",
       "      <td>0</td>\n",
       "      <td>0</td>\n",
       "      <td>0</td>\n",
       "      <td>3</td>\n",
       "      <td>0</td>\n",
       "    </tr>\n",
       "    <tr>\n",
       "      <th>2</th>\n",
       "      <td>51</td>\n",
       "      <td>3</td>\n",
       "      <td>36</td>\n",
       "      <td>4</td>\n",
       "      <td>1</td>\n",
       "      <td>0</td>\n",
       "      <td>3418.0</td>\n",
       "      <td>0</td>\n",
       "      <td>3418.0</td>\n",
       "      <td>2.594</td>\n",
       "      <td>...</td>\n",
       "      <td>2.333</td>\n",
       "      <td>0.000</td>\n",
       "      <td>1</td>\n",
       "      <td>1</td>\n",
       "      <td>0</td>\n",
       "      <td>0</td>\n",
       "      <td>0</td>\n",
       "      <td>3</td>\n",
       "      <td>3</td>\n",
       "      <td>0</td>\n",
       "    </tr>\n",
       "    <tr>\n",
       "      <th>3</th>\n",
       "      <td>40</td>\n",
       "      <td>4</td>\n",
       "      <td>34</td>\n",
       "      <td>3</td>\n",
       "      <td>4</td>\n",
       "      <td>1</td>\n",
       "      <td>3313.0</td>\n",
       "      <td>2517</td>\n",
       "      <td>796.0</td>\n",
       "      <td>1.405</td>\n",
       "      <td>...</td>\n",
       "      <td>2.333</td>\n",
       "      <td>0.760</td>\n",
       "      <td>0</td>\n",
       "      <td>0</td>\n",
       "      <td>0</td>\n",
       "      <td>1</td>\n",
       "      <td>0</td>\n",
       "      <td>0</td>\n",
       "      <td>1</td>\n",
       "      <td>0</td>\n",
       "    </tr>\n",
       "    <tr>\n",
       "      <th>4</th>\n",
       "      <td>40</td>\n",
       "      <td>3</td>\n",
       "      <td>21</td>\n",
       "      <td>5</td>\n",
       "      <td>1</td>\n",
       "      <td>0</td>\n",
       "      <td>4716.0</td>\n",
       "      <td>0</td>\n",
       "      <td>4716.0</td>\n",
       "      <td>2.175</td>\n",
       "      <td>...</td>\n",
       "      <td>2.500</td>\n",
       "      <td>0.000</td>\n",
       "      <td>1</td>\n",
       "      <td>1</td>\n",
       "      <td>0</td>\n",
       "      <td>0</td>\n",
       "      <td>0</td>\n",
       "      <td>2</td>\n",
       "      <td>0</td>\n",
       "      <td>0</td>\n",
       "    </tr>\n",
       "  </tbody>\n",
       "</table>\n",
       "<p>5 rows × 22 columns</p>\n",
       "</div>"
      ],
      "text/plain": [
       "   Customer_Age  Dependent_count  Months_on_book  Total_Relationship_Count  \\\n",
       "0            45                3              39                         5   \n",
       "1            49                5              44                         6   \n",
       "2            51                3              36                         4   \n",
       "3            40                4              34                         3   \n",
       "4            40                3              21                         5   \n",
       "\n",
       "   Months_Inactive_12_mon  Contacts_Count_12_mon  Credit_Limit  \\\n",
       "0                       1                      3       12691.0   \n",
       "1                       1                      2        8256.0   \n",
       "2                       1                      0        3418.0   \n",
       "3                       4                      1        3313.0   \n",
       "4                       1                      0        4716.0   \n",
       "\n",
       "   Total_Revolving_Bal  Avg_Open_To_Buy  Total_Amt_Chng_Q4_Q1  ...  \\\n",
       "0                  777          11914.0                 1.335  ...   \n",
       "1                  864           7392.0                 1.541  ...   \n",
       "2                    0           3418.0                 2.594  ...   \n",
       "3                 2517            796.0                 1.405  ...   \n",
       "4                    0           4716.0                 2.175  ...   \n",
       "\n",
       "   Total_Ct_Chng_Q4_Q1  Avg_Utilization_Ratio  Gender_M  \\\n",
       "0                1.625                  0.061         1   \n",
       "1                3.714                  0.105         0   \n",
       "2                2.333                  0.000         1   \n",
       "3                2.333                  0.760         0   \n",
       "4                2.500                  0.000         1   \n",
       "\n",
       "   Marital_Status_Married  Marital_Status_Single  Marital_Status_Unknown  \\\n",
       "0                       1                      0                       0   \n",
       "1                       0                      1                       0   \n",
       "2                       1                      0                       0   \n",
       "3                       0                      0                       1   \n",
       "4                       1                      0                       0   \n",
       "\n",
       "   Attrition_Flag_Attrited Customer  new_income_category  new_edu_category  \\\n",
       "0                                 0                    2                 1   \n",
       "1                                 0                    0                 3   \n",
       "2                                 0                    3                 3   \n",
       "3                                 0                    0                 1   \n",
       "4                                 0                    2                 0   \n",
       "\n",
       "   new_card_category  \n",
       "0                  0  \n",
       "1                  0  \n",
       "2                  0  \n",
       "3                  0  \n",
       "4                  0  \n",
       "\n",
       "[5 rows x 22 columns]"
      ]
     },
     "execution_count": 2,
     "metadata": {},
     "output_type": "execute_result"
    }
   ],
   "source": [
    "enf = pd.read_csv('encoding_finished_v2.csv')\n",
    "enf= enf.drop(columns =['Unnamed: 0'], axis=1) #필요없는 컬럼 삭제\n",
    "enf.head()"
   ]
  },
  {
   "cell_type": "markdown",
   "metadata": {},
   "source": [
    "# 특성(x)과 타겟(y)분리"
   ]
  },
  {
   "cell_type": "code",
   "execution_count": 3,
   "metadata": {},
   "outputs": [
    {
     "data": {
      "text/plain": [
       "Index(['Customer_Age', 'Dependent_count', 'Months_on_book',\n",
       "       'Total_Relationship_Count', 'Months_Inactive_12_mon',\n",
       "       'Contacts_Count_12_mon', 'Credit_Limit', 'Total_Revolving_Bal',\n",
       "       'Avg_Open_To_Buy', 'Total_Amt_Chng_Q4_Q1', 'Total_Trans_Amt',\n",
       "       'Total_Trans_Ct', 'Total_Ct_Chng_Q4_Q1', 'Avg_Utilization_Ratio',\n",
       "       'Gender_M', 'Marital_Status_Married', 'Marital_Status_Single',\n",
       "       'Marital_Status_Unknown', 'Attrition_Flag_Attrited Customer',\n",
       "       'new_income_category', 'new_edu_category', 'new_card_category'],\n",
       "      dtype='object')"
      ]
     },
     "execution_count": 3,
     "metadata": {},
     "output_type": "execute_result"
    }
   ],
   "source": [
    "enf.columns"
   ]
  },
  {
   "cell_type": "code",
   "execution_count": 4,
   "metadata": {},
   "outputs": [
    {
     "data": {
      "text/plain": [
       "0        0\n",
       "1        0\n",
       "2        0\n",
       "3        0\n",
       "4        0\n",
       "        ..\n",
       "10122    0\n",
       "10123    1\n",
       "10124    1\n",
       "10125    1\n",
       "10126    1\n",
       "Name: Attrition_Flag_Attrited Customer, Length: 10127, dtype: int64"
      ]
     },
     "execution_count": 4,
     "metadata": {},
     "output_type": "execute_result"
    }
   ],
   "source": [
    "y = enf['Attrition_Flag_Attrited Customer']\n",
    "y"
   ]
  },
  {
   "cell_type": "code",
   "execution_count": 5,
   "metadata": {},
   "outputs": [
    {
     "data": {
      "text/html": [
       "<div>\n",
       "<style scoped>\n",
       "    .dataframe tbody tr th:only-of-type {\n",
       "        vertical-align: middle;\n",
       "    }\n",
       "\n",
       "    .dataframe tbody tr th {\n",
       "        vertical-align: top;\n",
       "    }\n",
       "\n",
       "    .dataframe thead th {\n",
       "        text-align: right;\n",
       "    }\n",
       "</style>\n",
       "<table border=\"1\" class=\"dataframe\">\n",
       "  <thead>\n",
       "    <tr style=\"text-align: right;\">\n",
       "      <th></th>\n",
       "      <th>Customer_Age</th>\n",
       "      <th>Dependent_count</th>\n",
       "      <th>Months_on_book</th>\n",
       "      <th>Total_Relationship_Count</th>\n",
       "      <th>Months_Inactive_12_mon</th>\n",
       "      <th>Contacts_Count_12_mon</th>\n",
       "      <th>Credit_Limit</th>\n",
       "      <th>Total_Revolving_Bal</th>\n",
       "      <th>Avg_Open_To_Buy</th>\n",
       "      <th>Total_Amt_Chng_Q4_Q1</th>\n",
       "      <th>...</th>\n",
       "      <th>Total_Trans_Ct</th>\n",
       "      <th>Total_Ct_Chng_Q4_Q1</th>\n",
       "      <th>Avg_Utilization_Ratio</th>\n",
       "      <th>Gender_M</th>\n",
       "      <th>Marital_Status_Married</th>\n",
       "      <th>Marital_Status_Single</th>\n",
       "      <th>Marital_Status_Unknown</th>\n",
       "      <th>new_income_category</th>\n",
       "      <th>new_edu_category</th>\n",
       "      <th>new_card_category</th>\n",
       "    </tr>\n",
       "  </thead>\n",
       "  <tbody>\n",
       "    <tr>\n",
       "      <th>0</th>\n",
       "      <td>45</td>\n",
       "      <td>3</td>\n",
       "      <td>39</td>\n",
       "      <td>5</td>\n",
       "      <td>1</td>\n",
       "      <td>3</td>\n",
       "      <td>12691.0</td>\n",
       "      <td>777</td>\n",
       "      <td>11914.0</td>\n",
       "      <td>1.335</td>\n",
       "      <td>...</td>\n",
       "      <td>42</td>\n",
       "      <td>1.625</td>\n",
       "      <td>0.061</td>\n",
       "      <td>1</td>\n",
       "      <td>1</td>\n",
       "      <td>0</td>\n",
       "      <td>0</td>\n",
       "      <td>2</td>\n",
       "      <td>1</td>\n",
       "      <td>0</td>\n",
       "    </tr>\n",
       "    <tr>\n",
       "      <th>1</th>\n",
       "      <td>49</td>\n",
       "      <td>5</td>\n",
       "      <td>44</td>\n",
       "      <td>6</td>\n",
       "      <td>1</td>\n",
       "      <td>2</td>\n",
       "      <td>8256.0</td>\n",
       "      <td>864</td>\n",
       "      <td>7392.0</td>\n",
       "      <td>1.541</td>\n",
       "      <td>...</td>\n",
       "      <td>33</td>\n",
       "      <td>3.714</td>\n",
       "      <td>0.105</td>\n",
       "      <td>0</td>\n",
       "      <td>0</td>\n",
       "      <td>1</td>\n",
       "      <td>0</td>\n",
       "      <td>0</td>\n",
       "      <td>3</td>\n",
       "      <td>0</td>\n",
       "    </tr>\n",
       "    <tr>\n",
       "      <th>2</th>\n",
       "      <td>51</td>\n",
       "      <td>3</td>\n",
       "      <td>36</td>\n",
       "      <td>4</td>\n",
       "      <td>1</td>\n",
       "      <td>0</td>\n",
       "      <td>3418.0</td>\n",
       "      <td>0</td>\n",
       "      <td>3418.0</td>\n",
       "      <td>2.594</td>\n",
       "      <td>...</td>\n",
       "      <td>20</td>\n",
       "      <td>2.333</td>\n",
       "      <td>0.000</td>\n",
       "      <td>1</td>\n",
       "      <td>1</td>\n",
       "      <td>0</td>\n",
       "      <td>0</td>\n",
       "      <td>3</td>\n",
       "      <td>3</td>\n",
       "      <td>0</td>\n",
       "    </tr>\n",
       "  </tbody>\n",
       "</table>\n",
       "<p>3 rows × 21 columns</p>\n",
       "</div>"
      ],
      "text/plain": [
       "   Customer_Age  Dependent_count  Months_on_book  Total_Relationship_Count  \\\n",
       "0            45                3              39                         5   \n",
       "1            49                5              44                         6   \n",
       "2            51                3              36                         4   \n",
       "\n",
       "   Months_Inactive_12_mon  Contacts_Count_12_mon  Credit_Limit  \\\n",
       "0                       1                      3       12691.0   \n",
       "1                       1                      2        8256.0   \n",
       "2                       1                      0        3418.0   \n",
       "\n",
       "   Total_Revolving_Bal  Avg_Open_To_Buy  Total_Amt_Chng_Q4_Q1  ...  \\\n",
       "0                  777          11914.0                 1.335  ...   \n",
       "1                  864           7392.0                 1.541  ...   \n",
       "2                    0           3418.0                 2.594  ...   \n",
       "\n",
       "   Total_Trans_Ct  Total_Ct_Chng_Q4_Q1  Avg_Utilization_Ratio  Gender_M  \\\n",
       "0              42                1.625                  0.061         1   \n",
       "1              33                3.714                  0.105         0   \n",
       "2              20                2.333                  0.000         1   \n",
       "\n",
       "   Marital_Status_Married  Marital_Status_Single  Marital_Status_Unknown  \\\n",
       "0                       1                      0                       0   \n",
       "1                       0                      1                       0   \n",
       "2                       1                      0                       0   \n",
       "\n",
       "   new_income_category  new_edu_category  new_card_category  \n",
       "0                    2                 1                  0  \n",
       "1                    0                 3                  0  \n",
       "2                    3                 3                  0  \n",
       "\n",
       "[3 rows x 21 columns]"
      ]
     },
     "execution_count": 5,
     "metadata": {},
     "output_type": "execute_result"
    }
   ],
   "source": [
    "x = enf[['Customer_Age', 'Dependent_count', 'Months_on_book',\n",
    "       'Total_Relationship_Count', 'Months_Inactive_12_mon',\n",
    "       'Contacts_Count_12_mon', 'Credit_Limit', 'Total_Revolving_Bal',\n",
    "       'Avg_Open_To_Buy', 'Total_Amt_Chng_Q4_Q1', 'Total_Trans_Amt',\n",
    "       'Total_Trans_Ct', 'Total_Ct_Chng_Q4_Q1', 'Avg_Utilization_Ratio', 'Gender_M',\n",
    "       'Marital_Status_Married', 'Marital_Status_Single',\n",
    "       'Marital_Status_Unknown', 'new_income_category', 'new_edu_category',\n",
    "       'new_card_category']]\n",
    "x.head(3)"
   ]
  },
  {
   "cell_type": "code",
   "execution_count": 6,
   "metadata": {},
   "outputs": [
    {
     "data": {
      "text/plain": [
       "Index(['Customer_Age', 'Dependent_count', 'Months_on_book',\n",
       "       'Total_Relationship_Count', 'Months_Inactive_12_mon',\n",
       "       'Contacts_Count_12_mon', 'Credit_Limit', 'Total_Revolving_Bal',\n",
       "       'Avg_Open_To_Buy', 'Total_Amt_Chng_Q4_Q1', 'Total_Trans_Amt',\n",
       "       'Total_Trans_Ct', 'Total_Ct_Chng_Q4_Q1', 'Avg_Utilization_Ratio',\n",
       "       'Gender_M', 'Marital_Status_Married', 'Marital_Status_Single',\n",
       "       'Marital_Status_Unknown', 'new_income_category', 'new_edu_category',\n",
       "       'new_card_category'],\n",
       "      dtype='object')"
      ]
     },
     "execution_count": 6,
     "metadata": {},
     "output_type": "execute_result"
    }
   ],
   "source": [
    "x.columns"
   ]
  },
  {
   "cell_type": "markdown",
   "metadata": {},
   "source": [
    "# train, test 분리"
   ]
  },
  {
   "cell_type": "code",
   "execution_count": 7,
   "metadata": {},
   "outputs": [],
   "source": [
    "from sklearn.model_selection import train_test_split\n",
    "\n",
    "x_train, x_test, y_train, y_test = train_test_split(x, y, test_size=0.3, random_state=42)"
   ]
  },
  {
   "cell_type": "code",
   "execution_count": 8,
   "metadata": {},
   "outputs": [
    {
     "data": {
      "text/plain": [
       "((7088, 21), (3039, 21))"
      ]
     },
     "execution_count": 8,
     "metadata": {},
     "output_type": "execute_result"
    }
   ],
   "source": [
    "x_train.shape, x_test.shape"
   ]
  },
  {
   "cell_type": "code",
   "execution_count": 9,
   "metadata": {},
   "outputs": [
    {
     "data": {
      "text/plain": [
       "0.3000888713340575"
      ]
     },
     "execution_count": 9,
     "metadata": {},
     "output_type": "execute_result"
    }
   ],
   "source": [
    "x_test.shape[0]/(x_train.shape[0]+x_test.shape[0])"
   ]
  },
  {
   "cell_type": "markdown",
   "metadata": {},
   "source": [
    "# 7.Gradient Boosting Classifier"
   ]
  },
  {
   "cell_type": "code",
   "execution_count": 10,
   "metadata": {},
   "outputs": [],
   "source": [
    "from sklearn.ensemble import GradientBoostingClassifier\n",
    "\n",
    "gbc = GradientBoostingClassifier(random_state=0,learning_rate=0.5)\n",
    "gbc.fit(x_train,y_train)\n",
    "gbc_ypred=gbc.predict(x_test)\n",
    "gbc_yproba=gbc.predict_proba(x_test)"
   ]
  },
  {
   "cell_type": "code",
   "execution_count": 11,
   "metadata": {},
   "outputs": [
    {
     "name": "stdout",
     "output_type": "stream",
     "text": [
      "             분류 보고서\n",
      "              precision    recall  f1-score   support\n",
      "\n",
      "           0       0.98      0.99      0.98      2543\n",
      "           1       0.92      0.89      0.90       496\n",
      "\n",
      "    accuracy                           0.97      3039\n",
      "   macro avg       0.95      0.94      0.94      3039\n",
      "weighted avg       0.97      0.97      0.97      3039\n",
      "\n",
      "정확도:  0.9693978282329714\n",
      "재현율:  0.8870967741935484\n",
      "정밀도:  0.9224318658280922\n",
      "f1점수:  0.9044193216855086\n",
      "ROC-AUC점수:  0.9362735148985831\n"
     ]
    }
   ],
   "source": [
    "print('             분류 보고서')\n",
    "print(classification_report(y_test,gbc_ypred))\n",
    "print('정확도: ',accuracy_score(y_test, gbc_ypred))\n",
    "print('재현율: ',recall_score(y_test, gbc_ypred))\n",
    "print('정밀도: ',precision_score(y_test, gbc_ypred))\n",
    "print('f1점수: ',f1_score(y_test, gbc_ypred))\n",
    "print('ROC-AUC점수: ',roc_auc_score(y_test, gbc_ypred))"
   ]
  },
  {
   "cell_type": "code",
   "execution_count": 12,
   "metadata": {},
   "outputs": [
    {
     "name": "stdout",
     "output_type": "stream",
     "text": [
      "0.999\n",
      "0.969\n"
     ]
    }
   ],
   "source": [
    "# train set 정확도\n",
    "score_train = gbc.score(x_train, y_train) \n",
    "print('{:.3f}'.format(score_train))\n",
    "\n",
    "# 일반화 정확도\n",
    "score_test = gbc.score(x_test, y_test) \n",
    "print('{:.3f}'.format(score_test))"
   ]
  },
  {
   "cell_type": "code",
   "execution_count": null,
   "metadata": {},
   "outputs": [],
   "source": [
    "#max-depth 조정"
   ]
  },
  {
   "cell_type": "code",
   "execution_count": 13,
   "metadata": {},
   "outputs": [],
   "source": [
    "from sklearn.ensemble import GradientBoostingClassifier\n",
    "\n",
    "gbc = GradientBoostingClassifier(random_state=0, max_depth=2, learning_rate=0.5)\n",
    "gbc.fit(x_train,y_train)\n",
    "gbc_ypred2=gbc.predict(x_test)\n",
    "gbc_yproba2=gbc.predict_proba(x_test)"
   ]
  },
  {
   "cell_type": "code",
   "execution_count": 14,
   "metadata": {},
   "outputs": [
    {
     "name": "stdout",
     "output_type": "stream",
     "text": [
      "0.989\n",
      "0.965\n"
     ]
    }
   ],
   "source": [
    "# train set 정확도\n",
    "d_score_train = gbc.score(x_train, y_train) \n",
    "print('{:.3f}'.format(d_score_train))\n",
    "\n",
    "# 일반화 정확도\n",
    "d_score_test = gbc.score(x_test, y_test) \n",
    "print('{:.3f}'.format(d_score_test))"
   ]
  },
  {
   "cell_type": "code",
   "execution_count": 15,
   "metadata": {},
   "outputs": [
    {
     "name": "stdout",
     "output_type": "stream",
     "text": [
      "             분류 보고서\n",
      "              precision    recall  f1-score   support\n",
      "\n",
      "           0       0.98      0.98      0.98      2543\n",
      "           1       0.91      0.87      0.89       496\n",
      "\n",
      "    accuracy                           0.97      3039\n",
      "   macro avg       0.94      0.93      0.93      3039\n",
      "weighted avg       0.96      0.97      0.96      3039\n",
      "\n",
      "정확도:  0.9651201052977953\n",
      "재현율:  0.8709677419354839\n",
      "정밀도:  0.9113924050632911\n",
      "f1점수:  0.890721649484536\n",
      "ROC-AUC점수:  0.9272259079319574\n"
     ]
    }
   ],
   "source": [
    "print('             분류 보고서')\n",
    "print(classification_report(y_test,gbc_ypred2))\n",
    "print('정확도: ',accuracy_score(y_test, gbc_ypred2))\n",
    "print('재현율: ',recall_score(y_test, gbc_ypred2))\n",
    "print('정밀도: ',precision_score(y_test, gbc_ypred2))\n",
    "print('f1점수: ',f1_score(y_test, gbc_ypred2))\n",
    "print('ROC-AUC점수: ',roc_auc_score(y_test, gbc_ypred2))"
   ]
  },
  {
   "cell_type": "code",
   "execution_count": null,
   "metadata": {},
   "outputs": [],
   "source": []
  },
  {
   "cell_type": "code",
   "execution_count": null,
   "metadata": {},
   "outputs": [],
   "source": [
    "#learning rate 조정"
   ]
  },
  {
   "cell_type": "code",
   "execution_count": 16,
   "metadata": {},
   "outputs": [],
   "source": [
    "from sklearn.ensemble import GradientBoostingClassifier\n",
    "\n",
    "gbc = GradientBoostingClassifier(random_state=0,learning_rate=0.3)\n",
    "gbc.fit(x_train,y_train)\n",
    "gbc_ypred3=gbc.predict(x_test)\n",
    "gbc_yproba3=gbc.predict_proba(x_test)"
   ]
  },
  {
   "cell_type": "code",
   "execution_count": 17,
   "metadata": {},
   "outputs": [
    {
     "name": "stdout",
     "output_type": "stream",
     "text": [
      "0.992\n",
      "0.965\n"
     ]
    }
   ],
   "source": [
    "# train set 정확도\n",
    "l_score_train = gbc.score(x_train, y_train) \n",
    "print('{:.3f}'.format(l_score_train))\n",
    "\n",
    "# 일반화 정확도\n",
    "l_score_test = gbc.score(x_test, y_test) \n",
    "print('{:.3f}'.format(l_score_test))"
   ]
  },
  {
   "cell_type": "code",
   "execution_count": 18,
   "metadata": {},
   "outputs": [
    {
     "name": "stdout",
     "output_type": "stream",
     "text": [
      "             분류 보고서\n",
      "              precision    recall  f1-score   support\n",
      "\n",
      "           0       0.98      0.98      0.98      2543\n",
      "           1       0.90      0.88      0.89       496\n",
      "\n",
      "    accuracy                           0.97      3039\n",
      "   macro avg       0.94      0.93      0.94      3039\n",
      "weighted avg       0.97      0.97      0.97      3039\n",
      "\n",
      "정확도:  0.9654491609081934\n",
      "재현율:  0.8830645161290323\n",
      "정밀도:  0.9030927835051547\n",
      "f1점수:  0.8929663608562691\n",
      "ROC-AUC점수:  0.9322912041911381\n"
     ]
    }
   ],
   "source": [
    "print('             분류 보고서')\n",
    "print(classification_report(y_test,gbc_ypred3))\n",
    "print('정확도: ',accuracy_score(y_test, gbc_ypred3))\n",
    "print('재현율: ',recall_score(y_test, gbc_ypred3))\n",
    "print('정밀도: ',precision_score(y_test, gbc_ypred3))\n",
    "print('f1점수: ',f1_score(y_test, gbc_ypred3))\n",
    "print('ROC-AUC점수: ',roc_auc_score(y_test, gbc_ypred3))"
   ]
  },
  {
   "cell_type": "code",
   "execution_count": null,
   "metadata": {},
   "outputs": [],
   "source": [
    "# RandomizedSearchCV"
   ]
  },
  {
   "cell_type": "code",
   "execution_count": 79,
   "metadata": {},
   "outputs": [
    {
     "name": "stdout",
     "output_type": "stream",
     "text": [
      "Fitting 3 folds for each of 50 candidates, totalling 150 fits\n"
     ]
    },
    {
     "name": "stderr",
     "output_type": "stream",
     "text": [
      "[Parallel(n_jobs=-1)]: Using backend LokyBackend with 4 concurrent workers.\n",
      "[Parallel(n_jobs=-1)]: Done  42 tasks      | elapsed:  1.5min\n",
      "[Parallel(n_jobs=-1)]: Done 150 out of 150 | elapsed:  5.9min finished\n"
     ]
    },
    {
     "name": "stdout",
     "output_type": "stream",
     "text": [
      "최적 하이퍼파라미터:  {'n_estimators': 400, 'max_depth': 5, 'loss': 'exponential', 'learning_rate': 0.1}\n"
     ]
    }
   ],
   "source": [
    "from sklearn.model_selection import RandomizedSearchCV\n",
    "\n",
    "gbc = GradientBoostingClassifier()\n",
    "\n",
    "dists = {\n",
    "    'loss' : ['deviance', 'exponential'],\n",
    "    #실수의 경우 보통은 아래처럼 10단위로 지정 \n",
    "    'learning_rate' : [0.1, 0.01, 0.001, 0.0001],\n",
    "    'n_estimators' : [100, 200, 300, 400, 500, 600],\n",
    "    'max_depth':[2, 3, 4, 5]\n",
    "}\n",
    "\n",
    "rds = RandomizedSearchCV(\n",
    "    gbc, \n",
    "    param_distributions=dists, \n",
    "    n_iter=50, \n",
    "    cv=3, \n",
    "    scoring='f1',  #평가 기준: f1\n",
    "    verbose=1,\n",
    "    n_jobs=-1,\n",
    "    random_state=0\n",
    ")\n",
    "rds.fit(x_train, y_train)\n",
    "print('최적 하이퍼파라미터: ', rds.best_params_)"
   ]
  },
  {
   "cell_type": "code",
   "execution_count": 80,
   "metadata": {},
   "outputs": [
    {
     "name": "stdout",
     "output_type": "stream",
     "text": [
      "훈련 f1 score:  1.0\n",
      "검증 f1 score:  0.9050051072522982\n"
     ]
    }
   ],
   "source": [
    "pipe = rds.best_estimator_\n",
    "\n",
    "y_val_pred = pipe.predict(x_test)\n",
    "y_train_pred = pipe.predict(x_train)\n",
    "\n",
    "print('훈련 f1 score: ', f1_score(y_train, y_train_pred, average='binary'))\n",
    "print('검증 f1 score: ', f1_score(y_test, y_val_pred, average='binary'))"
   ]
  },
  {
   "cell_type": "code",
   "execution_count": 81,
   "metadata": {},
   "outputs": [
    {
     "name": "stdout",
     "output_type": "stream",
     "text": [
      "             분류 보고서\n",
      "              precision    recall  f1-score   support\n",
      "\n",
      "           0       0.98      0.98      0.98      2543\n",
      "           1       0.92      0.89      0.91       496\n",
      "\n",
      "    accuracy                           0.97      3039\n",
      "   macro avg       0.95      0.94      0.94      3039\n",
      "weighted avg       0.97      0.97      0.97      3039\n",
      "\n",
      "정확도:  0.9693978282329714\n",
      "재현율:  0.8931451612903226\n",
      "정밀도:  0.917184265010352\n",
      "f1점수:  0.9050051072522982\n",
      "ROC-AUC점수:  0.938707853944414\n"
     ]
    }
   ],
   "source": [
    "print('             분류 보고서')\n",
    "print(classification_report(y_test,y_val_pred))\n",
    "print('정확도: ',accuracy_score(y_test, y_val_pred))\n",
    "print('재현율: ',recall_score(y_test, y_val_pred))\n",
    "print('정밀도: ',precision_score(y_test, y_val_pred))\n",
    "print('f1점수: ',f1_score(y_test, y_val_pred))\n",
    "print('ROC-AUC점수: ',roc_auc_score(y_test, y_val_pred))"
   ]
  },
  {
   "cell_type": "code",
   "execution_count": null,
   "metadata": {},
   "outputs": [],
   "source": [
    "#기존 결과\n",
    "분류 보고서\n",
    "              precision    recall  f1-score   support\n",
    "\n",
    "           0       0.98      0.99      0.98      2543\n",
    "           1       0.92      0.89      0.90       496\n",
    "\n",
    "    accuracy                           0.97      3039\n",
    "   macro avg       0.95      0.94      0.94      3039\n",
    "weighted avg       0.97      0.97      0.97      3039\n",
    "\n",
    "정확도:  0.9693978282329714\n",
    "재현율:  0.8870967741935484\n",
    "정밀도:  0.9224318658280922\n",
    "f1점수:  0.9044193216855086\n",
    "ROC-AUC점수:  0.9362735148985831"
   ]
  },
  {
   "cell_type": "markdown",
   "metadata": {},
   "source": [
    "bayesian-optimization 참고  \n",
    "https://wooono.tistory.com/102  \n",
    "https://dacon.io/codeshare/1720?dtype=recent  "
   ]
  },
  {
   "cell_type": "code",
   "execution_count": null,
   "metadata": {},
   "outputs": [],
   "source": [
    "# bayesian-optimization"
   ]
  },
  {
   "cell_type": "code",
   "execution_count": 82,
   "metadata": {},
   "outputs": [],
   "source": [
    "#!pip install bayesian-optimization\n",
    "from bayes_opt import BayesianOptimization"
   ]
  },
  {
   "cell_type": "code",
   "execution_count": 90,
   "metadata": {},
   "outputs": [],
   "source": [
    "# 탐색 대상 함수\n",
    "\n",
    "# 모델 정의\n",
    "def gbc_cv(learning_rate, n_estimators, max_depth):\n",
    "    model = GradientBoostingClassifier(\n",
    "                                learning_rate=learning_rate,\n",
    "                                n_estimators=int(n_estimators),\n",
    "                                max_depth = int(round(max_depth)),\n",
    "                               )\n",
    "    # 모델 훈련\n",
    "    model.fit(x_train, y_train)\n",
    "\n",
    "    # 예측값 출력\n",
    "    bo_y_pred= model.predict(x_test)\n",
    "\n",
    "    # 각종 metric 계산\n",
    "    acc = accuracy_score(y_test, bo_y_pred)\n",
    "    recall = recall_score(y_test, bo_y_pred)\n",
    "    precision= precision_score(y_test, bo_y_pred)\n",
    "    f1 = f1_score(y_test, bo_y_pred)\n",
    "    roc_auc = roc_auc_score(y_test, bo_y_pred)\n",
    "    \n",
    "    # 사용할 metric 반환\n",
    "    return f1"
   ]
  },
  {
   "cell_type": "code",
   "execution_count": 91,
   "metadata": {},
   "outputs": [],
   "source": [
    "# 실험해보고자하는 hyperparameter 집합\n",
    "pbounds = {'learning_rate' : (0.0001, 0.1),\n",
    "           'n_estimators': (100, 600),\n",
    "           'max_depth': (1, 10),\n",
    "          }"
   ]
  },
  {
   "cell_type": "code",
   "execution_count": 92,
   "metadata": {},
   "outputs": [],
   "source": [
    "#객체 생성\n",
    "# f : 탐색 대상 함수, pbounds : hyperparameter 집합\n",
    "# verbose = 2 항상 출력, verbose = 1 최댓값일 때 출력, verbose = 0 출력 안함\n",
    "# random_state : Bayesian Optimization 상의 랜덤성이 존재하는 부분을 통제 \n",
    "bo_gbc = BayesianOptimization(f = gbc_cv, pbounds = pbounds, verbose = 2, random_state = 0 )"
   ]
  },
  {
   "cell_type": "code",
   "execution_count": 93,
   "metadata": {},
   "outputs": [
    {
     "name": "stdout",
     "output_type": "stream",
     "text": [
      "|   iter    |  target   | learni... | max_depth | n_esti... |\n",
      "-------------------------------------------------------------\n",
      "| \u001b[0m 1       \u001b[0m | \u001b[0m 0.8937  \u001b[0m | \u001b[0m 0.05493 \u001b[0m | \u001b[0m 7.437   \u001b[0m | \u001b[0m 401.4   \u001b[0m |\n",
      "| \u001b[95m 2       \u001b[0m | \u001b[95m 0.898   \u001b[0m | \u001b[95m 0.05453 \u001b[0m | \u001b[95m 4.813   \u001b[0m | \u001b[95m 422.9   \u001b[0m |\n",
      "| \u001b[0m 3       \u001b[0m | \u001b[0m 0.8937  \u001b[0m | \u001b[0m 0.04381 \u001b[0m | \u001b[0m 9.026   \u001b[0m | \u001b[0m 581.8   \u001b[0m |\n",
      "| \u001b[0m 4       \u001b[0m | \u001b[0m 0.8859  \u001b[0m | \u001b[0m 0.03841 \u001b[0m | \u001b[0m 8.126   \u001b[0m | \u001b[0m 364.4   \u001b[0m |\n",
      "| \u001b[0m 5       \u001b[0m | \u001b[0m 0.8776  \u001b[0m | \u001b[0m 0.05685 \u001b[0m | \u001b[0m 9.33    \u001b[0m | \u001b[0m 135.5   \u001b[0m |\n",
      "| \u001b[0m 6       \u001b[0m | \u001b[0m 0.8827  \u001b[0m | \u001b[0m 0.05564 \u001b[0m | \u001b[0m 9.897   \u001b[0m | \u001b[0m 492.3   \u001b[0m |\n",
      "| \u001b[95m 7       \u001b[0m | \u001b[95m 0.901   \u001b[0m | \u001b[95m 0.06078 \u001b[0m | \u001b[95m 2.597   \u001b[0m | \u001b[95m 421.5   \u001b[0m |\n",
      "| \u001b[0m 8       \u001b[0m | \u001b[0m 0.8072  \u001b[0m | \u001b[0m 0.09962 \u001b[0m | \u001b[0m 1.007   \u001b[0m | \u001b[0m 413.2   \u001b[0m |\n",
      "| \u001b[0m 9       \u001b[0m | \u001b[0m 0.8     \u001b[0m | \u001b[0m 0.09004 \u001b[0m | \u001b[0m 1.472   \u001b[0m | \u001b[0m 424.7   \u001b[0m |\n",
      "| \u001b[95m 10      \u001b[0m | \u001b[95m 0.905   \u001b[0m | \u001b[95m 0.09171 \u001b[0m | \u001b[95m 3.545   \u001b[0m | \u001b[95m 421.7   \u001b[0m |\n",
      "| \u001b[0m 11      \u001b[0m | \u001b[0m 0.9026  \u001b[0m | \u001b[0m 0.04714 \u001b[0m | \u001b[0m 3.7     \u001b[0m | \u001b[0m 419.7   \u001b[0m |\n",
      "| \u001b[0m 12      \u001b[0m | \u001b[0m 0.8992  \u001b[0m | \u001b[0m 0.04013 \u001b[0m | \u001b[0m 6.424   \u001b[0m | \u001b[0m 421.1   \u001b[0m |\n",
      "| \u001b[0m 13      \u001b[0m | \u001b[0m 0.8921  \u001b[0m | \u001b[0m 0.08133 \u001b[0m | \u001b[0m 8.49    \u001b[0m | \u001b[0m 424.2   \u001b[0m |\n",
      "| \u001b[0m 14      \u001b[0m | \u001b[0m 0.8843  \u001b[0m | \u001b[0m 0.03834 \u001b[0m | \u001b[0m 9.442   \u001b[0m | \u001b[0m 398.0   \u001b[0m |\n",
      "| \u001b[0m 15      \u001b[0m | \u001b[0m 0.8912  \u001b[0m | \u001b[0m 0.0968  \u001b[0m | \u001b[0m 9.983   \u001b[0m | \u001b[0m 585.6   \u001b[0m |\n",
      "| \u001b[0m 16      \u001b[0m | \u001b[0m 0.8937  \u001b[0m | \u001b[0m 0.09839 \u001b[0m | \u001b[0m 6.094   \u001b[0m | \u001b[0m 584.1   \u001b[0m |\n",
      "| \u001b[0m 17      \u001b[0m | \u001b[0m 0.8971  \u001b[0m | \u001b[0m 0.09928 \u001b[0m | \u001b[0m 4.998   \u001b[0m | \u001b[0m 580.0   \u001b[0m |\n",
      "| \u001b[0m 18      \u001b[0m | \u001b[0m 0.8903  \u001b[0m | \u001b[0m 0.07384 \u001b[0m | \u001b[0m 7.677   \u001b[0m | \u001b[0m 577.5   \u001b[0m |\n",
      "| \u001b[0m 19      \u001b[0m | \u001b[0m 0.8988  \u001b[0m | \u001b[0m 0.06092 \u001b[0m | \u001b[0m 1.785   \u001b[0m | \u001b[0m 582.1   \u001b[0m |\n",
      "| \u001b[0m 20      \u001b[0m | \u001b[0m 0.773   \u001b[0m | \u001b[0m 0.04961 \u001b[0m | \u001b[0m 1.134   \u001b[0m | \u001b[0m 578.1   \u001b[0m |\n",
      "| \u001b[0m 21      \u001b[0m | \u001b[0m 0.9039  \u001b[0m | \u001b[0m 0.08014 \u001b[0m | \u001b[0m 2.893   \u001b[0m | \u001b[0m 583.9   \u001b[0m |\n",
      "| \u001b[0m 22      \u001b[0m | \u001b[0m 0.9004  \u001b[0m | \u001b[0m 0.01936 \u001b[0m | \u001b[0m 4.394   \u001b[0m | \u001b[0m 581.9   \u001b[0m |\n",
      "| \u001b[0m 23      \u001b[0m | \u001b[0m 0.8335  \u001b[0m | \u001b[0m 0.09096 \u001b[0m | \u001b[0m 1.206   \u001b[0m | \u001b[0m 587.3   \u001b[0m |\n",
      "| \u001b[0m 24      \u001b[0m | \u001b[0m 0.9044  \u001b[0m | \u001b[0m 0.08908 \u001b[0m | \u001b[0m 4.261   \u001b[0m | \u001b[0m 399.6   \u001b[0m |\n",
      "| \u001b[0m 25      \u001b[0m | \u001b[0m 0.8933  \u001b[0m | \u001b[0m 0.01681 \u001b[0m | \u001b[0m 4.027   \u001b[0m | \u001b[0m 402.3   \u001b[0m |\n",
      "=============================================================\n"
     ]
    }
   ],
   "source": [
    "# 메소드를 이용해 최대화 과정 수행\n",
    "# init_points :  초기 Random Search 갯수\n",
    "# n_iter : 반복 횟수 (몇개의 입력값-함숫값 점들을 확인할지! 많을 수록 정확한 값을 얻을 수 있다.)\n",
    "# acq : Acquisition Function들 중 Expected Improvement(EI) 를 사용\n",
    "# xi : exploration 강도 (기본값은 0.0)\n",
    "bo_gbc.maximize(init_points=5, n_iter = 20, acq='ei', xi=0.01)\n",
    "\n",
    "#target 값은 목적함수의 return 값으로 score에 해당\n",
    "# 'iter’는 반복 회차, ‘target’은 목적 함수의 return값, 나머지는 입력값을 나타냅니다. \n",
    "# 현재 회차 이전까지 조사된 함숫값들과 비교하여, 현재 회차에 최댓값이 얻어진 경우, \n",
    "# bayesian-optimization 라이브러리는 이를 자동으로 다른 색 글자로 표시하는 것을 확인할 수 있습니다"
   ]
  },
  {
   "cell_type": "code",
   "execution_count": 94,
   "metadata": {},
   "outputs": [
    {
     "name": "stdout",
     "output_type": "stream",
     "text": [
      "{'target': 0.9049586776859504, 'params': {'learning_rate': 0.09170675678400313, 'max_depth': 3.5450604447647787, 'n_estimators': 421.74677039184473}}\n"
     ]
    }
   ],
   "source": [
    "# 찾은 파라미터 값 확인\n",
    "print(bo_gbc.max)"
   ]
  },
  {
   "cell_type": "code",
   "execution_count": 97,
   "metadata": {},
   "outputs": [],
   "source": [
    "#파라미터 적용\n",
    "fit_gbc = GradientBoostingClassifier(learning_rate=bo_gbc.max['params']['learning_rate'],\n",
    "                               n_estimators=int(bo_gbc.max['params']['n_estimators']),                                         \n",
    "                               max_depth = int(round(bo_gbc.max['params']['max_depth'])),\n",
    "                               )"
   ]
  },
  {
   "cell_type": "code",
   "execution_count": 100,
   "metadata": {},
   "outputs": [],
   "source": [
    "fit_gbc.fit(x_train, y_train)\n",
    "bo_gbc_ypred=fit_gbc.predict(x_test)"
   ]
  },
  {
   "cell_type": "code",
   "execution_count": 101,
   "metadata": {},
   "outputs": [
    {
     "name": "stdout",
     "output_type": "stream",
     "text": [
      "             분류 보고서\n",
      "              precision    recall  f1-score   support\n",
      "\n",
      "           0       0.98      0.99      0.98      2543\n",
      "           1       0.93      0.89      0.91       496\n",
      "\n",
      "    accuracy                           0.97      3039\n",
      "   macro avg       0.95      0.94      0.94      3039\n",
      "weighted avg       0.97      0.97      0.97      3039\n",
      "\n",
      "정확도:  0.9700559394537677\n",
      "재현율:  0.8850806451612904\n",
      "정밀도:  0.9281183932346723\n",
      "f1점수:  0.9060887512899898\n",
      "ROC-AUC점수:  0.9358553048850101\n"
     ]
    }
   ],
   "source": [
    "print('             분류 보고서')\n",
    "print(classification_report(y_test,bo_gbc_ypred))\n",
    "print('정확도: ',accuracy_score(y_test, bo_gbc_ypred))\n",
    "print('재현율: ',recall_score(y_test, bo_gbc_ypred))\n",
    "print('정밀도: ',precision_score(y_test, bo_gbc_ypred))\n",
    "print('f1점수: ',f1_score(y_test, bo_gbc_ypred))\n",
    "print('ROC-AUC점수: ',roc_auc_score(y_test, bo_gbc_ypred))"
   ]
  },
  {
   "cell_type": "code",
   "execution_count": null,
   "metadata": {},
   "outputs": [],
   "source": [
    "#기존 결과\n",
    "분류 보고서\n",
    "              precision    recall  f1-score   support\n",
    "\n",
    "           0       0.98      0.99      0.98      2543\n",
    "           1       0.92      0.89      0.90       496\n",
    "\n",
    "    accuracy                           0.97      3039\n",
    "   macro avg       0.95      0.94      0.94      3039\n",
    "weighted avg       0.97      0.97      0.97      3039\n",
    "\n",
    "정확도:  0.9693978282329714\n",
    "재현율:  0.8870967741935484\n",
    "정밀도:  0.9224318658280922\n",
    "f1점수:  0.9044193216855086\n",
    "ROC-AUC점수:  0.9362735148985831"
   ]
  },
  {
   "cell_type": "code",
   "execution_count": 33,
   "metadata": {},
   "outputs": [
    {
     "data": {
      "text/html": [
       "<div>\n",
       "<style scoped>\n",
       "    .dataframe tbody tr th:only-of-type {\n",
       "        vertical-align: middle;\n",
       "    }\n",
       "\n",
       "    .dataframe tbody tr th {\n",
       "        vertical-align: top;\n",
       "    }\n",
       "\n",
       "    .dataframe thead th {\n",
       "        text-align: right;\n",
       "    }\n",
       "</style>\n",
       "<table border=\"1\" class=\"dataframe\">\n",
       "  <thead>\n",
       "    <tr style=\"text-align: right;\">\n",
       "      <th></th>\n",
       "      <th>Customer_Age</th>\n",
       "      <th>Dependent_count</th>\n",
       "      <th>Months_on_book</th>\n",
       "      <th>Total_Relationship_Count</th>\n",
       "      <th>Months_Inactive_12_mon</th>\n",
       "      <th>Contacts_Count_12_mon</th>\n",
       "      <th>Credit_Limit</th>\n",
       "      <th>Total_Revolving_Bal</th>\n",
       "      <th>Avg_Open_To_Buy</th>\n",
       "      <th>Total_Amt_Chng_Q4_Q1</th>\n",
       "      <th>...</th>\n",
       "      <th>Total_Trans_Ct</th>\n",
       "      <th>Total_Ct_Chng_Q4_Q1</th>\n",
       "      <th>Avg_Utilization_Ratio</th>\n",
       "      <th>Gender_M</th>\n",
       "      <th>Marital_Status_Married</th>\n",
       "      <th>Marital_Status_Single</th>\n",
       "      <th>Marital_Status_Unknown</th>\n",
       "      <th>new_income_category</th>\n",
       "      <th>new_edu_category</th>\n",
       "      <th>new_card_category</th>\n",
       "    </tr>\n",
       "  </thead>\n",
       "  <tbody>\n",
       "    <tr>\n",
       "      <th>feature_importance</th>\n",
       "      <td>0.0184</td>\n",
       "      <td>0.000717</td>\n",
       "      <td>0.002717</td>\n",
       "      <td>0.079492</td>\n",
       "      <td>0.010013</td>\n",
       "      <td>0.016839</td>\n",
       "      <td>0.003539</td>\n",
       "      <td>0.189779</td>\n",
       "      <td>0.009805</td>\n",
       "      <td>0.036065</td>\n",
       "      <td>...</td>\n",
       "      <td>0.346777</td>\n",
       "      <td>0.082224</td>\n",
       "      <td>0.003819</td>\n",
       "      <td>0.000747</td>\n",
       "      <td>0.00182</td>\n",
       "      <td>0.00005</td>\n",
       "      <td>0.000189</td>\n",
       "      <td>0.000549</td>\n",
       "      <td>0.001734</td>\n",
       "      <td>0.0</td>\n",
       "    </tr>\n",
       "  </tbody>\n",
       "</table>\n",
       "<p>1 rows × 21 columns</p>\n",
       "</div>"
      ],
      "text/plain": [
       "                    Customer_Age  Dependent_count  Months_on_book  \\\n",
       "feature_importance        0.0184         0.000717        0.002717   \n",
       "\n",
       "                    Total_Relationship_Count  Months_Inactive_12_mon  \\\n",
       "feature_importance                  0.079492                0.010013   \n",
       "\n",
       "                    Contacts_Count_12_mon  Credit_Limit  Total_Revolving_Bal  \\\n",
       "feature_importance               0.016839      0.003539             0.189779   \n",
       "\n",
       "                    Avg_Open_To_Buy  Total_Amt_Chng_Q4_Q1  ...  \\\n",
       "feature_importance         0.009805              0.036065  ...   \n",
       "\n",
       "                    Total_Trans_Ct  Total_Ct_Chng_Q4_Q1  \\\n",
       "feature_importance        0.346777             0.082224   \n",
       "\n",
       "                    Avg_Utilization_Ratio  Gender_M  Marital_Status_Married  \\\n",
       "feature_importance               0.003819  0.000747                 0.00182   \n",
       "\n",
       "                    Marital_Status_Single  Marital_Status_Unknown  \\\n",
       "feature_importance                0.00005                0.000189   \n",
       "\n",
       "                    new_income_category  new_edu_category  new_card_category  \n",
       "feature_importance             0.000549          0.001734                0.0  \n",
       "\n",
       "[1 rows x 21 columns]"
      ]
     },
     "execution_count": 33,
     "metadata": {},
     "output_type": "execute_result"
    }
   ],
   "source": [
    "columns = x_train.columns\n",
    "\n",
    "feature_importance = pd.DataFrame(gbc.feature_importances_.reshape((1, -1)), columns=columns, index=['feature_importance'])\n",
    "feature_importance"
   ]
  },
  {
   "cell_type": "code",
   "execution_count": 34,
   "metadata": {},
   "outputs": [
    {
     "data": {
      "text/html": [
       "<div>\n",
       "<style scoped>\n",
       "    .dataframe tbody tr th:only-of-type {\n",
       "        vertical-align: middle;\n",
       "    }\n",
       "\n",
       "    .dataframe tbody tr th {\n",
       "        vertical-align: top;\n",
       "    }\n",
       "\n",
       "    .dataframe thead th {\n",
       "        text-align: right;\n",
       "    }\n",
       "</style>\n",
       "<table border=\"1\" class=\"dataframe\">\n",
       "  <thead>\n",
       "    <tr style=\"text-align: right;\">\n",
       "      <th></th>\n",
       "      <th>feature_importance</th>\n",
       "    </tr>\n",
       "  </thead>\n",
       "  <tbody>\n",
       "    <tr>\n",
       "      <th>Total_Trans_Ct</th>\n",
       "      <td>0.346777</td>\n",
       "    </tr>\n",
       "    <tr>\n",
       "      <th>Total_Trans_Amt</th>\n",
       "      <td>0.194725</td>\n",
       "    </tr>\n",
       "    <tr>\n",
       "      <th>Total_Revolving_Bal</th>\n",
       "      <td>0.189779</td>\n",
       "    </tr>\n",
       "    <tr>\n",
       "      <th>Total_Ct_Chng_Q4_Q1</th>\n",
       "      <td>0.082224</td>\n",
       "    </tr>\n",
       "    <tr>\n",
       "      <th>Total_Relationship_Count</th>\n",
       "      <td>0.079492</td>\n",
       "    </tr>\n",
       "  </tbody>\n",
       "</table>\n",
       "</div>"
      ],
      "text/plain": [
       "                          feature_importance\n",
       "Total_Trans_Ct                      0.346777\n",
       "Total_Trans_Amt                     0.194725\n",
       "Total_Revolving_Bal                 0.189779\n",
       "Total_Ct_Chng_Q4_Q1                 0.082224\n",
       "Total_Relationship_Count            0.079492"
      ]
     },
     "execution_count": 34,
     "metadata": {},
     "output_type": "execute_result"
    }
   ],
   "source": [
    "feature_importance.T.sort_values(by=['feature_importance'], axis=0, ascending=False).head()"
   ]
  },
  {
   "cell_type": "code",
   "execution_count": 35,
   "metadata": {},
   "outputs": [
    {
     "data": {
      "image/png": "[encoded data removed]",
      "text/plain": [
       "<Figure size 432x288 with 1 Axes>"
      ]
     },
     "metadata": {
      "needs_background": "light"
     },
     "output_type": "display_data"
    }
   ],
   "source": [
    "feat_importances = pd.Series(gbc.feature_importances_, index=x_train.columns)\n",
    "feat_importances.nlargest(10).sort_values().plot(kind='barh')\n",
    "plt.title(\"Top 10 Important Features\")\n",
    "plt.show()"
   ]
  },
  {
   "cell_type": "markdown",
   "metadata": {},
   "source": [
    "# 8.XGBoost classifier"
   ]
  },
  {
   "cell_type": "code",
   "execution_count": 36,
   "metadata": {},
   "outputs": [
    {
     "name": "stdout",
     "output_type": "stream",
     "text": [
      "[18:39:05] WARNING: C:/Users/Administrator/workspace/xgboost-win64_release_1.3.0/src/learner.cc:1061: Starting in XGBoost 1.3.0, the default evaluation metric used with the objective 'binary:logistic' was changed from 'error' to 'logloss'. Explicitly set eval_metric if you'd like to restore the old behavior.\n"
     ]
    }
   ],
   "source": [
    "from xgboost import XGBClassifier\n",
    "\n",
    "xgb = XGBClassifier(n_estimators=500, learning_rate=1.0, max_depth =4)\n",
    "xgb.fit(x_train, y_train)\n",
    "xgb_ypred = xgb.predict(x_test)\n",
    "xgb_yproba = xgb.predict_proba(x_test)"
   ]
  },
  {
   "cell_type": "code",
   "execution_count": 37,
   "metadata": {},
   "outputs": [
    {
     "name": "stdout",
     "output_type": "stream",
     "text": [
      "             분류 보고서\n",
      "              precision    recall  f1-score   support\n",
      "\n",
      "           0       0.98      0.98      0.98      2543\n",
      "           1       0.89      0.89      0.89       496\n",
      "\n",
      "    accuracy                           0.97      3039\n",
      "   macro avg       0.94      0.94      0.94      3039\n",
      "weighted avg       0.97      0.97      0.97      3039\n",
      "\n",
      "정확도:  0.9651201052977953\n",
      "재현율:  0.8931451612903226\n",
      "정밀도:  0.8931451612903226\n",
      "f1점수:  0.8931451612903226\n",
      "ROC-AUC점수:  0.9361518177666713\n"
     ]
    }
   ],
   "source": [
    "print('             분류 보고서')\n",
    "print(classification_report(y_test, xgb_ypred))\n",
    "print('정확도: ',accuracy_score(y_test, xgb_ypred)) \n",
    "print('재현율: ',recall_score(y_test,  xgb_ypred))\n",
    "print('정밀도: ',precision_score(y_test,  xgb_ypred))\n",
    "print('f1점수: ',f1_score(y_test,  xgb_ypred))\n",
    "print('ROC-AUC점수: ',roc_auc_score(y_test, xgb_ypred))"
   ]
  },
  {
   "cell_type": "code",
   "execution_count": null,
   "metadata": {},
   "outputs": [],
   "source": [
    "# bayesian-optimization"
   ]
  },
  {
   "cell_type": "code",
   "execution_count": 105,
   "metadata": {},
   "outputs": [],
   "source": [
    "from xgboost import XGBClassifier\n",
    "# 모델 정의\n",
    "def xgb_cv(learning_rate, n_estimators, max_depth):\n",
    "    model = XGBClassifier(\n",
    "                                learning_rate=learning_rate,\n",
    "                                n_estimators=int(n_estimators),\n",
    "                                max_depth = int(round(max_depth)),\n",
    "                               )\n",
    "    # 모델 훈련\n",
    "    model.fit(x_train, y_train)\n",
    "\n",
    "    # 예측값 출력\n",
    "    bo_y_pred2= model.predict(x_test)\n",
    "\n",
    "    # 각종 metric 계산\n",
    "    acc = accuracy_score(y_test, bo_y_pred2)\n",
    "    recall = recall_score(y_test, bo_y_pred2)\n",
    "    precision= precision_score(y_test, bo_y_pred2)\n",
    "    f1 = f1_score(y_test, bo_y_pred2)\n",
    "    roc_auc = roc_auc_score(y_test, bo_y_pred2)\n",
    "    \n",
    "    # 사용할 metric 반환\n",
    "    return f1"
   ]
  },
  {
   "cell_type": "code",
   "execution_count": 106,
   "metadata": {},
   "outputs": [],
   "source": [
    "# 실험해보고자하는 hyperparameter 집합\n",
    "pbounds = {'learning_rate' : (0.0001, 0.1),\n",
    "           'n_estimators': (100, 600),\n",
    "           'max_depth': (1, 10),\n",
    "          }"
   ]
  },
  {
   "cell_type": "code",
   "execution_count": 108,
   "metadata": {},
   "outputs": [
    {
     "name": "stdout",
     "output_type": "stream",
     "text": [
      "|   iter    |  target   | learni... | max_depth | n_esti... |\n",
      "-------------------------------------------------------------\n",
      "[12:06:16] WARNING: C:/Users/Administrator/workspace/xgboost-win64_release_1.3.0/src/learner.cc:1061: Starting in XGBoost 1.3.0, the default evaluation metric used with the objective 'binary:logistic' was changed from 'error' to 'logloss'. Explicitly set eval_metric if you'd like to restore the old behavior.\n",
      "| \u001b[0m 1       \u001b[0m | \u001b[0m 0.8909  \u001b[0m | \u001b[0m 0.05493 \u001b[0m | \u001b[0m 7.437   \u001b[0m | \u001b[0m 401.4   \u001b[0m |\n",
      "[12:06:21] WARNING: C:/Users/Administrator/workspace/xgboost-win64_release_1.3.0/src/learner.cc:1061: Starting in XGBoost 1.3.0, the default evaluation metric used with the objective 'binary:logistic' was changed from 'error' to 'logloss'. Explicitly set eval_metric if you'd like to restore the old behavior.\n",
      "| \u001b[95m 2       \u001b[0m | \u001b[95m 0.9045  \u001b[0m | \u001b[95m 0.05453 \u001b[0m | \u001b[95m 4.813   \u001b[0m | \u001b[95m 422.9   \u001b[0m |\n",
      "[12:06:24] WARNING: C:/Users/Administrator/workspace/xgboost-win64_release_1.3.0/src/learner.cc:1061: Starting in XGBoost 1.3.0, the default evaluation metric used with the objective 'binary:logistic' was changed from 'error' to 'logloss'. Explicitly set eval_metric if you'd like to restore the old behavior.\n",
      "| \u001b[0m 3       \u001b[0m | \u001b[0m 0.8932  \u001b[0m | \u001b[0m 0.04381 \u001b[0m | \u001b[0m 9.026   \u001b[0m | \u001b[0m 581.8   \u001b[0m |\n",
      "[12:06:30] WARNING: C:/Users/Administrator/workspace/xgboost-win64_release_1.3.0/src/learner.cc:1061: Starting in XGBoost 1.3.0, the default evaluation metric used with the objective 'binary:logistic' was changed from 'error' to 'logloss'. Explicitly set eval_metric if you'd like to restore the old behavior.\n",
      "| \u001b[0m 4       \u001b[0m | \u001b[0m 0.8994  \u001b[0m | \u001b[0m 0.03841 \u001b[0m | \u001b[0m 8.126   \u001b[0m | \u001b[0m 364.4   \u001b[0m |\n",
      "[12:06:34] WARNING: C:/Users/Administrator/workspace/xgboost-win64_release_1.3.0/src/learner.cc:1061: Starting in XGBoost 1.3.0, the default evaluation metric used with the objective 'binary:logistic' was changed from 'error' to 'logloss'. Explicitly set eval_metric if you'd like to restore the old behavior.\n",
      "| \u001b[0m 5       \u001b[0m | \u001b[0m 0.8937  \u001b[0m | \u001b[0m 0.05685 \u001b[0m | \u001b[0m 9.33    \u001b[0m | \u001b[0m 135.5   \u001b[0m |\n",
      "[12:06:36] WARNING: C:/Users/Administrator/workspace/xgboost-win64_release_1.3.0/src/learner.cc:1061: Starting in XGBoost 1.3.0, the default evaluation metric used with the objective 'binary:logistic' was changed from 'error' to 'logloss'. Explicitly set eval_metric if you'd like to restore the old behavior.\n",
      "| \u001b[0m 6       \u001b[0m | \u001b[0m 0.895   \u001b[0m | \u001b[0m 0.05875 \u001b[0m | \u001b[0m 5.63    \u001b[0m | \u001b[0m 423.7   \u001b[0m |\n",
      "[12:06:40] WARNING: C:/Users/Administrator/workspace/xgboost-win64_release_1.3.0/src/learner.cc:1061: Starting in XGBoost 1.3.0, the default evaluation metric used with the objective 'binary:logistic' was changed from 'error' to 'logloss'. Explicitly set eval_metric if you'd like to restore the old behavior.\n",
      "| \u001b[0m 7       \u001b[0m | \u001b[0m 0.8845  \u001b[0m | \u001b[0m 0.02311 \u001b[0m | \u001b[0m 9.618   \u001b[0m | \u001b[0m 291.6   \u001b[0m |\n",
      "[12:06:45] WARNING: C:/Users/Administrator/workspace/xgboost-win64_release_1.3.0/src/learner.cc:1061: Starting in XGBoost 1.3.0, the default evaluation metric used with the objective 'binary:logistic' was changed from 'error' to 'logloss'. Explicitly set eval_metric if you'd like to restore the old behavior.\n",
      "| \u001b[0m 8       \u001b[0m | \u001b[0m 0.9043  \u001b[0m | \u001b[0m 0.02998 \u001b[0m | \u001b[0m 4.984   \u001b[0m | \u001b[0m 422.3   \u001b[0m |\n",
      "[12:06:48] WARNING: C:/Users/Administrator/workspace/xgboost-win64_release_1.3.0/src/learner.cc:1061: Starting in XGBoost 1.3.0, the default evaluation metric used with the objective 'binary:logistic' was changed from 'error' to 'logloss'. Explicitly set eval_metric if you'd like to restore the old behavior.\n",
      "| \u001b[0m 9       \u001b[0m | \u001b[0m 0.9032  \u001b[0m | \u001b[0m 0.05707 \u001b[0m | \u001b[0m 3.741   \u001b[0m | \u001b[0m 422.5   \u001b[0m |\n",
      "[12:06:51] WARNING: C:/Users/Administrator/workspace/xgboost-win64_release_1.3.0/src/learner.cc:1061: Starting in XGBoost 1.3.0, the default evaluation metric used with the objective 'binary:logistic' was changed from 'error' to 'logloss'. Explicitly set eval_metric if you'd like to restore the old behavior.\n",
      "| \u001b[95m 10      \u001b[0m | \u001b[95m 0.9046  \u001b[0m | \u001b[95m 0.02589 \u001b[0m | \u001b[95m 4.125   \u001b[0m | \u001b[95m 420.3   \u001b[0m |\n",
      "[12:06:53] WARNING: C:/Users/Administrator/workspace/xgboost-win64_release_1.3.0/src/learner.cc:1061: Starting in XGBoost 1.3.0, the default evaluation metric used with the objective 'binary:logistic' was changed from 'error' to 'logloss'. Explicitly set eval_metric if you'd like to restore the old behavior.\n",
      "| \u001b[0m 11      \u001b[0m | \u001b[0m 0.8971  \u001b[0m | \u001b[0m 0.02863 \u001b[0m | \u001b[0m 6.313   \u001b[0m | \u001b[0m 419.9   \u001b[0m |\n",
      "[12:06:57] WARNING: C:/Users/Administrator/workspace/xgboost-win64_release_1.3.0/src/learner.cc:1061: Starting in XGBoost 1.3.0, the default evaluation metric used with the objective 'binary:logistic' was changed from 'error' to 'logloss'. Explicitly set eval_metric if you'd like to restore the old behavior.\n",
      "| \u001b[0m 12      \u001b[0m | \u001b[0m 0.8045  \u001b[0m | \u001b[0m 0.02136 \u001b[0m | \u001b[0m 2.332   \u001b[0m | \u001b[0m 420.2   \u001b[0m |\n",
      "[12:06:59] WARNING: C:/Users/Administrator/workspace/xgboost-win64_release_1.3.0/src/learner.cc:1061: Starting in XGBoost 1.3.0, the default evaluation metric used with the objective 'binary:logistic' was changed from 'error' to 'logloss'. Explicitly set eval_metric if you'd like to restore the old behavior.\n",
      "| \u001b[0m 13      \u001b[0m | \u001b[0m 0.8991  \u001b[0m | \u001b[0m 0.01959 \u001b[0m | \u001b[0m 4.656   \u001b[0m | \u001b[0m 421.0   \u001b[0m |\n",
      "[12:07:03] WARNING: C:/Users/Administrator/workspace/xgboost-win64_release_1.3.0/src/learner.cc:1061: Starting in XGBoost 1.3.0, the default evaluation metric used with the objective 'binary:logistic' was changed from 'error' to 'logloss'. Explicitly set eval_metric if you'd like to restore the old behavior.\n",
      "| \u001b[0m 14      \u001b[0m | \u001b[0m 0.9024  \u001b[0m | \u001b[0m 0.06293 \u001b[0m | \u001b[0m 5.217   \u001b[0m | \u001b[0m 418.8   \u001b[0m |\n",
      "[12:07:05] WARNING: C:/Users/Administrator/workspace/xgboost-win64_release_1.3.0/src/learner.cc:1061: Starting in XGBoost 1.3.0, the default evaluation metric used with the objective 'binary:logistic' was changed from 'error' to 'logloss'. Explicitly set eval_metric if you'd like to restore the old behavior.\n",
      "| \u001b[0m 15      \u001b[0m | \u001b[0m 0.8786  \u001b[0m | \u001b[0m 0.01042 \u001b[0m | \u001b[0m 4.553   \u001b[0m | \u001b[0m 419.6   \u001b[0m |\n",
      "[12:07:09] WARNING: C:/Users/Administrator/workspace/xgboost-win64_release_1.3.0/src/learner.cc:1061: Starting in XGBoost 1.3.0, the default evaluation metric used with the objective 'binary:logistic' was changed from 'error' to 'logloss'. Explicitly set eval_metric if you'd like to restore the old behavior.\n",
      "| \u001b[0m 16      \u001b[0m | \u001b[0m 0.8289  \u001b[0m | \u001b[0m 0.005555\u001b[0m | \u001b[0m 4.464   \u001b[0m | \u001b[0m 421.0   \u001b[0m |\n",
      "[12:07:11] WARNING: C:/Users/Administrator/workspace/xgboost-win64_release_1.3.0/src/learner.cc:1061: Starting in XGBoost 1.3.0, the default evaluation metric used with the objective 'binary:logistic' was changed from 'error' to 'logloss'. Explicitly set eval_metric if you'd like to restore the old behavior.\n",
      "| \u001b[0m 17      \u001b[0m | \u001b[0m 0.8912  \u001b[0m | \u001b[0m 0.05236 \u001b[0m | \u001b[0m 6.23    \u001b[0m | \u001b[0m 168.2   \u001b[0m |\n",
      "[12:07:13] WARNING: C:/Users/Administrator/workspace/xgboost-win64_release_1.3.0/src/learner.cc:1061: Starting in XGBoost 1.3.0, the default evaluation metric used with the objective 'binary:logistic' was changed from 'error' to 'logloss'. Explicitly set eval_metric if you'd like to restore the old behavior.\n",
      "| \u001b[0m 18      \u001b[0m | \u001b[0m 0.882   \u001b[0m | \u001b[0m 0.07932 \u001b[0m | \u001b[0m 1.825   \u001b[0m | \u001b[0m 256.8   \u001b[0m |\n",
      "[12:07:14] WARNING: C:/Users/Administrator/workspace/xgboost-win64_release_1.3.0/src/learner.cc:1061: Starting in XGBoost 1.3.0, the default evaluation metric used with the objective 'binary:logistic' was changed from 'error' to 'logloss'. Explicitly set eval_metric if you'd like to restore the old behavior.\n",
      "| \u001b[0m 19      \u001b[0m | \u001b[0m 0.8964  \u001b[0m | \u001b[0m 0.02578 \u001b[0m | \u001b[0m 7.5     \u001b[0m | \u001b[0m 587.5   \u001b[0m |\n",
      "[12:07:21] WARNING: C:/Users/Administrator/workspace/xgboost-win64_release_1.3.0/src/learner.cc:1061: Starting in XGBoost 1.3.0, the default evaluation metric used with the objective 'binary:logistic' was changed from 'error' to 'logloss'. Explicitly set eval_metric if you'd like to restore the old behavior.\n"
     ]
    },
    {
     "name": "stdout",
     "output_type": "stream",
     "text": [
      "| \u001b[0m 20      \u001b[0m | \u001b[0m 0.8926  \u001b[0m | \u001b[0m 0.01668 \u001b[0m | \u001b[0m 4.377   \u001b[0m | \u001b[0m 530.9   \u001b[0m |\n",
      "[12:07:24] WARNING: C:/Users/Administrator/workspace/xgboost-win64_release_1.3.0/src/learner.cc:1061: Starting in XGBoost 1.3.0, the default evaluation metric used with the objective 'binary:logistic' was changed from 'error' to 'logloss'. Explicitly set eval_metric if you'd like to restore the old behavior.\n",
      "| \u001b[0m 21      \u001b[0m | \u001b[0m 0.8882  \u001b[0m | \u001b[0m 0.08743 \u001b[0m | \u001b[0m 2.634   \u001b[0m | \u001b[0m 121.6   \u001b[0m |\n",
      "[12:07:25] WARNING: C:/Users/Administrator/workspace/xgboost-win64_release_1.3.0/src/learner.cc:1061: Starting in XGBoost 1.3.0, the default evaluation metric used with the objective 'binary:logistic' was changed from 'error' to 'logloss'. Explicitly set eval_metric if you'd like to restore the old behavior.\n",
      "| \u001b[0m 22      \u001b[0m | \u001b[0m 0.8918  \u001b[0m | \u001b[0m 0.05165 \u001b[0m | \u001b[0m 9.169   \u001b[0m | \u001b[0m 310.1   \u001b[0m |\n",
      "[12:07:28] WARNING: C:/Users/Administrator/workspace/xgboost-win64_release_1.3.0/src/learner.cc:1061: Starting in XGBoost 1.3.0, the default evaluation metric used with the objective 'binary:logistic' was changed from 'error' to 'logloss'. Explicitly set eval_metric if you'd like to restore the old behavior.\n",
      "| \u001b[0m 23      \u001b[0m | \u001b[0m 0.8962  \u001b[0m | \u001b[0m 0.09711 \u001b[0m | \u001b[0m 8.935   \u001b[0m | \u001b[0m 149.8   \u001b[0m |\n",
      "[12:07:30] WARNING: C:/Users/Administrator/workspace/xgboost-win64_release_1.3.0/src/learner.cc:1061: Starting in XGBoost 1.3.0, the default evaluation metric used with the objective 'binary:logistic' was changed from 'error' to 'logloss'. Explicitly set eval_metric if you'd like to restore the old behavior.\n",
      "| \u001b[0m 24      \u001b[0m | \u001b[0m 0.8862  \u001b[0m | \u001b[0m 0.04624 \u001b[0m | \u001b[0m 8.773   \u001b[0m | \u001b[0m 152.7   \u001b[0m |\n",
      "[12:07:32] WARNING: C:/Users/Administrator/workspace/xgboost-win64_release_1.3.0/src/learner.cc:1061: Starting in XGBoost 1.3.0, the default evaluation metric used with the objective 'binary:logistic' was changed from 'error' to 'logloss'. Explicitly set eval_metric if you'd like to restore the old behavior.\n",
      "| \u001b[0m 25      \u001b[0m | \u001b[0m 0.894   \u001b[0m | \u001b[0m 0.07547 \u001b[0m | \u001b[0m 8.307   \u001b[0m | \u001b[0m 583.4   \u001b[0m |\n",
      "=============================================================\n"
     ]
    }
   ],
   "source": [
    "import warnings\n",
    "warnings.filterwarnings('ignore')\n",
    "bo_xgb = BayesianOptimization(f = xgb_cv, pbounds = pbounds, verbose = 2, random_state = 0 )\n",
    "bo_xgb.maximize(init_points=5, n_iter = 20, acq='ei', xi=0.01)"
   ]
  },
  {
   "cell_type": "code",
   "execution_count": 109,
   "metadata": {},
   "outputs": [
    {
     "name": "stdout",
     "output_type": "stream",
     "text": [
      "{'target': 0.904564315352697, 'params': {'learning_rate': 0.025893614371041457, 'max_depth': 4.124755516846121, 'n_estimators': 420.339608606918}}\n"
     ]
    }
   ],
   "source": [
    "print(bo_xgb.max)"
   ]
  },
  {
   "cell_type": "code",
   "execution_count": 110,
   "metadata": {},
   "outputs": [
    {
     "name": "stdout",
     "output_type": "stream",
     "text": [
      "[12:07:37] WARNING: C:/Users/Administrator/workspace/xgboost-win64_release_1.3.0/src/learner.cc:1061: Starting in XGBoost 1.3.0, the default evaluation metric used with the objective 'binary:logistic' was changed from 'error' to 'logloss'. Explicitly set eval_metric if you'd like to restore the old behavior.\n"
     ]
    }
   ],
   "source": [
    "#파라미터 적용\n",
    "fit_xgb = XGBClassifier(learning_rate=bo_gbc.max['params']['learning_rate'],\n",
    "                               n_estimators=int(bo_gbc.max['params']['n_estimators']),                                         \n",
    "                               max_depth = int(round(bo_gbc.max['params']['max_depth'])),\n",
    "                               )\n",
    "\n",
    "fit_xgb.fit(x_train, y_train)\n",
    "bo_xgb_ypred=fit_gbc.predict(x_test)"
   ]
  },
  {
   "cell_type": "code",
   "execution_count": 111,
   "metadata": {},
   "outputs": [
    {
     "name": "stdout",
     "output_type": "stream",
     "text": [
      "             분류 보고서\n",
      "              precision    recall  f1-score   support\n",
      "\n",
      "           0       0.98      0.99      0.98      2543\n",
      "           1       0.93      0.89      0.91       496\n",
      "\n",
      "    accuracy                           0.97      3039\n",
      "   macro avg       0.95      0.94      0.94      3039\n",
      "weighted avg       0.97      0.97      0.97      3039\n",
      "\n",
      "정확도:  0.9700559394537677\n",
      "재현율:  0.8850806451612904\n",
      "정밀도:  0.9281183932346723\n",
      "f1점수:  0.9060887512899898\n",
      "ROC-AUC점수:  0.9358553048850101\n"
     ]
    }
   ],
   "source": [
    "print('             분류 보고서')\n",
    "print(classification_report(y_test,bo_xgb_ypred))\n",
    "print('정확도: ',accuracy_score(y_test, bo_xgb_ypred))\n",
    "print('재현율: ',recall_score(y_test, bo_xgb_ypred))\n",
    "print('정밀도: ',precision_score(y_test, bo_xgb_ypred))\n",
    "print('f1점수: ',f1_score(y_test, bo_xgb_ypred))\n",
    "print('ROC-AUC점수: ',roc_auc_score(y_test, bo_xgb_ypred))"
   ]
  },
  {
   "cell_type": "code",
   "execution_count": null,
   "metadata": {},
   "outputs": [],
   "source": [
    "#기존 결과\n",
    "분류 보고서\n",
    "              precision    recall  f1-score   support\n",
    "\n",
    "           0       0.98      0.98      0.98      2543\n",
    "           1       0.89      0.89      0.89       496\n",
    "\n",
    "    accuracy                           0.97      3039\n",
    "   macro avg       0.94      0.94      0.94      3039\n",
    "weighted avg       0.97      0.97      0.97      3039\n",
    "\n",
    "정확도:  0.9651201052977953\n",
    "재현율:  0.8931451612903226\n",
    "정밀도:  0.8931451612903226\n",
    "f1점수:  0.8931451612903226\n",
    "ROC-AUC점수:  0.9361518177666713"
   ]
  },
  {
   "cell_type": "code",
   "execution_count": null,
   "metadata": {},
   "outputs": [],
   "source": []
  },
  {
   "cell_type": "code",
   "execution_count": 38,
   "metadata": {},
   "outputs": [
    {
     "data": {
      "text/html": [
       "<div>\n",
       "<style scoped>\n",
       "    .dataframe tbody tr th:only-of-type {\n",
       "        vertical-align: middle;\n",
       "    }\n",
       "\n",
       "    .dataframe tbody tr th {\n",
       "        vertical-align: top;\n",
       "    }\n",
       "\n",
       "    .dataframe thead th {\n",
       "        text-align: right;\n",
       "    }\n",
       "</style>\n",
       "<table border=\"1\" class=\"dataframe\">\n",
       "  <thead>\n",
       "    <tr style=\"text-align: right;\">\n",
       "      <th></th>\n",
       "      <th>Customer_Age</th>\n",
       "      <th>Dependent_count</th>\n",
       "      <th>Months_on_book</th>\n",
       "      <th>Total_Relationship_Count</th>\n",
       "      <th>Months_Inactive_12_mon</th>\n",
       "      <th>Contacts_Count_12_mon</th>\n",
       "      <th>Credit_Limit</th>\n",
       "      <th>Total_Revolving_Bal</th>\n",
       "      <th>Avg_Open_To_Buy</th>\n",
       "      <th>Total_Amt_Chng_Q4_Q1</th>\n",
       "      <th>...</th>\n",
       "      <th>Total_Trans_Ct</th>\n",
       "      <th>Total_Ct_Chng_Q4_Q1</th>\n",
       "      <th>Avg_Utilization_Ratio</th>\n",
       "      <th>Gender_M</th>\n",
       "      <th>Marital_Status_Married</th>\n",
       "      <th>Marital_Status_Single</th>\n",
       "      <th>Marital_Status_Unknown</th>\n",
       "      <th>new_income_category</th>\n",
       "      <th>new_edu_category</th>\n",
       "      <th>new_card_category</th>\n",
       "    </tr>\n",
       "  </thead>\n",
       "  <tbody>\n",
       "    <tr>\n",
       "      <th>feature_importance</th>\n",
       "      <td>0.034004</td>\n",
       "      <td>0.011509</td>\n",
       "      <td>0.014365</td>\n",
       "      <td>0.146423</td>\n",
       "      <td>0.07735</td>\n",
       "      <td>0.05099</td>\n",
       "      <td>0.019263</td>\n",
       "      <td>0.146235</td>\n",
       "      <td>0.010699</td>\n",
       "      <td>0.034397</td>\n",
       "      <td>...</td>\n",
       "      <td>0.22117</td>\n",
       "      <td>0.055214</td>\n",
       "      <td>0.009926</td>\n",
       "      <td>0.019697</td>\n",
       "      <td>0.015639</td>\n",
       "      <td>0.005338</td>\n",
       "      <td>0.02236</td>\n",
       "      <td>0.00899</td>\n",
       "      <td>0.010633</td>\n",
       "      <td>0.007575</td>\n",
       "    </tr>\n",
       "  </tbody>\n",
       "</table>\n",
       "<p>1 rows × 21 columns</p>\n",
       "</div>"
      ],
      "text/plain": [
       "                    Customer_Age  Dependent_count  Months_on_book  \\\n",
       "feature_importance      0.034004         0.011509        0.014365   \n",
       "\n",
       "                    Total_Relationship_Count  Months_Inactive_12_mon  \\\n",
       "feature_importance                  0.146423                 0.07735   \n",
       "\n",
       "                    Contacts_Count_12_mon  Credit_Limit  Total_Revolving_Bal  \\\n",
       "feature_importance                0.05099      0.019263             0.146235   \n",
       "\n",
       "                    Avg_Open_To_Buy  Total_Amt_Chng_Q4_Q1  ...  \\\n",
       "feature_importance         0.010699              0.034397  ...   \n",
       "\n",
       "                    Total_Trans_Ct  Total_Ct_Chng_Q4_Q1  \\\n",
       "feature_importance         0.22117             0.055214   \n",
       "\n",
       "                    Avg_Utilization_Ratio  Gender_M  Marital_Status_Married  \\\n",
       "feature_importance               0.009926  0.019697                0.015639   \n",
       "\n",
       "                    Marital_Status_Single  Marital_Status_Unknown  \\\n",
       "feature_importance               0.005338                 0.02236   \n",
       "\n",
       "                    new_income_category  new_edu_category  new_card_category  \n",
       "feature_importance              0.00899          0.010633           0.007575  \n",
       "\n",
       "[1 rows x 21 columns]"
      ]
     },
     "execution_count": 38,
     "metadata": {},
     "output_type": "execute_result"
    }
   ],
   "source": [
    "columns = x_train.columns\n",
    "\n",
    "feature_importance = pd.DataFrame(xgb.feature_importances_.reshape((1, -1)), columns=columns, index=['feature_importance'])\n",
    "feature_importance"
   ]
  },
  {
   "cell_type": "code",
   "execution_count": 39,
   "metadata": {},
   "outputs": [
    {
     "data": {
      "text/html": [
       "<div>\n",
       "<style scoped>\n",
       "    .dataframe tbody tr th:only-of-type {\n",
       "        vertical-align: middle;\n",
       "    }\n",
       "\n",
       "    .dataframe tbody tr th {\n",
       "        vertical-align: top;\n",
       "    }\n",
       "\n",
       "    .dataframe thead th {\n",
       "        text-align: right;\n",
       "    }\n",
       "</style>\n",
       "<table border=\"1\" class=\"dataframe\">\n",
       "  <thead>\n",
       "    <tr style=\"text-align: right;\">\n",
       "      <th></th>\n",
       "      <th>feature_importance</th>\n",
       "    </tr>\n",
       "  </thead>\n",
       "  <tbody>\n",
       "    <tr>\n",
       "      <th>Total_Trans_Ct</th>\n",
       "      <td>0.221170</td>\n",
       "    </tr>\n",
       "    <tr>\n",
       "      <th>Total_Relationship_Count</th>\n",
       "      <td>0.146423</td>\n",
       "    </tr>\n",
       "    <tr>\n",
       "      <th>Total_Revolving_Bal</th>\n",
       "      <td>0.146235</td>\n",
       "    </tr>\n",
       "    <tr>\n",
       "      <th>Total_Trans_Amt</th>\n",
       "      <td>0.078223</td>\n",
       "    </tr>\n",
       "    <tr>\n",
       "      <th>Months_Inactive_12_mon</th>\n",
       "      <td>0.077350</td>\n",
       "    </tr>\n",
       "  </tbody>\n",
       "</table>\n",
       "</div>"
      ],
      "text/plain": [
       "                          feature_importance\n",
       "Total_Trans_Ct                      0.221170\n",
       "Total_Relationship_Count            0.146423\n",
       "Total_Revolving_Bal                 0.146235\n",
       "Total_Trans_Amt                     0.078223\n",
       "Months_Inactive_12_mon              0.077350"
      ]
     },
     "execution_count": 39,
     "metadata": {},
     "output_type": "execute_result"
    }
   ],
   "source": [
    "feature_importance.T.sort_values(by=['feature_importance'], axis=0, ascending=False).head()"
   ]
  },
  {
   "cell_type": "code",
   "execution_count": 40,
   "metadata": {},
   "outputs": [
    {
     "data": {
      "image/png": "[encoded data removed]",
      "text/plain": [
       "<Figure size 432x288 with 1 Axes>"
      ]
     },
     "metadata": {
      "needs_background": "light"
     },
     "output_type": "display_data"
    }
   ],
   "source": [
    "feat_importances = pd.Series(xgb.feature_importances_, index=x_train.columns)\n",
    "feat_importances.nlargest(10).sort_values().plot(kind='barh')\n",
    "plt.title(\"Top 10 Important Features\")\n",
    "plt.show()"
   ]
  }
 ],
 "metadata": {
  "kernelspec": {
   "display_name": "Python 3",
   "language": "python",
   "name": "python3"
  },
  "language_info": {
   "codemirror_mode": {
    "name": "ipython",
    "version": 3
   },
   "file_extension": ".py",
   "mimetype": "text/x-python",
   "name": "python",
   "nbconvert_exporter": "python",
   "pygments_lexer": "ipython3",
   "version": "3.8.5"
  }
 },
 "nbformat": 4,
 "nbformat_minor": 4
}
